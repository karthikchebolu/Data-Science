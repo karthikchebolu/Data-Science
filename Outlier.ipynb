{
  "nbformat": 4,
  "nbformat_minor": 0,
  "metadata": {
    "colab": {
      "provenance": [],
      "collapsed_sections": [],
      "authorship_tag": "ABX9TyM7Wxr+zVvFFxmgH5xUTUje",
      "include_colab_link": true
    },
    "kernelspec": {
      "name": "python3",
      "display_name": "Python 3"
    },
    "language_info": {
      "name": "python"
    }
  },
  "cells": [
    {
      "cell_type": "markdown",
      "metadata": {
        "id": "view-in-github",
        "colab_type": "text"
      },
      "source": [
        "<a href=\"https://colab.research.google.com/github/karthikchebolu/Data-Science/blob/main/Outlier.ipynb\" target=\"_parent\"><img src=\"https://colab.research.google.com/assets/colab-badge.svg\" alt=\"Open In Colab\"/></a>"
      ]
    },
    {
      "cell_type": "code",
      "execution_count": 1,
      "metadata": {
        "id": "_FB5jM6ejjq1"
      },
      "outputs": [],
      "source": [
        "import numpy as np\n",
        "import matplotlib.pyplot as plt\n",
        "%matplotlib inline"
      ]
    },
    {
      "cell_type": "code",
      "source": [
        "# Finding Outlier Using Zscore\n",
        "outliers=[]\n",
        "def detect_outliers(data):\n",
        "  thershold=3\n",
        "  mean=np.mean(data)\n",
        "  std=np.std(data)\n",
        "\n",
        "  for i in data:\n",
        "    Z_score=(i-mean)/std\n",
        "    if np.abs(Z_score)>thershold:\n",
        "      outliers.append(i)\n",
        "  return outliers\n",
        "\n",
        "\n"
      ],
      "metadata": {
        "id": "JWhLT1KYojNg"
      },
      "execution_count": 3,
      "outputs": []
    },
    {
      "cell_type": "code",
      "source": [
        "#Finding Outlier Using IQR\n",
        "# sort the dataset and after that find IQR\n",
        "\n",
        "def Outlier_iqr(data):\n",
        "  q1,q3=np.percentile(data,[25,75])\n",
        "  iqr=q3-q1\n",
        "  lower = q1-1.5*iqr\n",
        "  upper = q3+1.5*iqr\n",
        "  return(lower,upper)\n"
      ],
      "metadata": {
        "id": "_12vq0U6qCAH"
      },
      "execution_count": 8,
      "outputs": []
    },
    {
      "cell_type": "code",
      "source": [
        "# finding Outlier in column\n",
        "def Outlier_limits(Column_name):\n",
        "    Q1,Q3=df[Column_name].quantile([.25,.75])\n",
        "    IQR=Q3-Q1\n",
        "    low=Q1-(1.5*IQR)\n",
        "    high=Q3+(1.5*IQR)\n",
        "    return(high,low)"
      ],
      "metadata": {
        "id": "CQwCxx0zvCrm"
      },
      "execution_count": 9,
      "outputs": []
    },
    {
      "cell_type": "code",
      "source": [
        "## Removing Outliers in a column\n",
        "#high_value,low_value=Outlier_limits('Column_name')\n",
        "#print('Column_name: ','upperlimit: ',high_value,'lowelimit:',low_value)\n",
        "#df.loc[df['column_name']>high_value,'column_name']=high_value\n",
        "#df.loc[df['Column_nname']>low_value,'column_name']=low_value"
      ],
      "metadata": {
        "id": "RKeQBrN-xw1T"
      },
      "execution_count": 13,
      "outputs": []
    },
    {
      "cell_type": "code",
      "source": [
        "#Data Visualization of an Outlier\n",
        "import seaborn as sns"
      ],
      "metadata": {
        "id": "7KCo77zWwaCc"
      },
      "execution_count": 10,
      "outputs": []
    },
    {
      "cell_type": "code",
      "source": [
        "sns.boxplot()"
      ],
      "metadata": {
        "colab": {
          "base_uri": "https://localhost:8080/",
          "height": 286
        },
        "id": "2lsQIvm5wkmx",
        "outputId": "b018f423-80a0-47ed-d159-8961032eaa78"
      },
      "execution_count": 11,
      "outputs": [
        {
          "output_type": "execute_result",
          "data": {
            "text/plain": [
              "<matplotlib.axes._subplots.AxesSubplot at 0x7ff62e9dc250>"
            ]
          },
          "metadata": {},
          "execution_count": 11
        },
        {
          "output_type": "display_data",
          "data": {
            "text/plain": [
              "<Figure size 432x288 with 1 Axes>"
            ],
            "image/png": "[encoded data removed]"
          },
          "metadata": {
            "needs_background": "light"
          }
        }
      ]
    },
    {
      "cell_type": "code",
      "source": [
        "#plotting box plot using pandas\n",
        "#import pandas as pd\n",
        "# df['Column_name'].plot(kind='box')\n",
        "#or\n",
        "#df['Column_name'].plot.box()"
      ],
      "metadata": {
        "id": "80SIkDSjwq-a"
      },
      "execution_count": null,
      "outputs": []
    }
  ]
}